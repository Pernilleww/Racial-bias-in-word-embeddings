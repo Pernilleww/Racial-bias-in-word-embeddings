{
 "cells": [
  {
   "cell_type": "code",
   "execution_count": 1,
   "metadata": {
    "pycharm": {
     "name": "#%%\n"
    }
   },
   "outputs": [],
   "source": [
    "import nltk\n",
    "import re\n",
    "import pandas as pd\n",
    "import numpy as np\n",
    "import statsmodels\n",
    "from sklearn.model_selection import train_test_split\n",
    "from sklearn.linear_model import SGDClassifier\n",
    "from sklearn.metrics import accuracy_score\n",
    "from nltk.stem import WordNetLemmatizer\n",
    "import matplotlib.pyplot as plt\n",
    "import seaborn\n",
    "import statsmodels.formula.api\n",
    "\n"
   ]
  },
  {
   "cell_type": "markdown",
   "source": [
    "# Glove"
   ],
   "metadata": {
    "collapsed": false,
    "pycharm": {
     "name": "#%% md\n"
    }
   }
  },
  {
   "cell_type": "markdown",
   "metadata": {
    "pycharm": {
     "name": "#%% md\n"
    }
   },
   "source": [
    "## Embeddings"
   ]
  },
  {
   "cell_type": "code",
   "execution_count": 3,
   "metadata": {
    "pycharm": {
     "name": "#%%\n"
    }
   },
   "outputs": [],
   "source": [
    "def remove_from_list(word_list, not_in_embed):\n",
    "    for i in not_in_embed:\n",
    "        word_list.remove(i)\n",
    "    return word_list\n",
    "\n",
    "\n",
    "def load_embeddings(fn):\n",
    "    labels = []\n",
    "    rows = []\n",
    "    with open(fn, encoding='utf-8') as infile:\n",
    "        for i, line in enumerate(infile):\n",
    "            items = line.rstrip().split(' ')\n",
    "            if len(items) == 2:\n",
    "                continue\n",
    "            labels.append(items[0])\n",
    "            values = np.array([float(x) for x in items[1:]], 'f')\n",
    "            rows.append(values)\n",
    "\n",
    "    arr = np.vstack(rows)\n",
    "    return pd.DataFrame(arr, index=labels, dtype='f')\n",
    "\n",
    "\n",
    "def load_lexicon(filename):\n",
    "    lexicon = []\n",
    "    with open(filename, encoding='latin-1') as infile:\n",
    "        for line in infile:\n",
    "            line = line.rstrip()\n",
    "            if line and not line.startswith(';'):\n",
    "                lexicon.append(line)\n",
    "    return lexicon"
   ]
  },
  {
   "cell_type": "code",
   "execution_count": 4,
   "metadata": {
    "pycharm": {
     "name": "#%%\n"
    }
   },
   "outputs": [],
   "source": [
    "#download this file at: https://nlp.stanford.edu/projects/glove/\n",
    "embeddings = load_embeddings('data/glove.42B.300d.txt')"
   ]
  },
  {
   "cell_type": "code",
   "execution_count": 50,
   "metadata": {
    "pycharm": {
     "name": "#%%\n"
    }
   },
   "outputs": [
    {
     "name": "stdout",
     "output_type": "stream",
     "text": [
      "shape (1917494, 300)\n"
     ]
    },
    {
     "data": {
      "text/plain": "         0         1         2         3         4         5       6    \\\n,    0.18378 -0.121230 -0.119870  0.015227 -0.191210 -0.066074 -2.9876   \nthe -0.20838 -0.149320 -0.017528 -0.028432 -0.060104 -0.264600 -4.1445   \n.    0.10876  0.002244  0.222130 -0.121020 -0.048959  0.018135 -3.8174   \nand -0.09611 -0.257880 -0.358600 -0.328870  0.579500 -0.517740 -4.1582   \nto  -0.24837 -0.454610  0.039227 -0.284220 -0.031852  0.263550 -4.6323   \n\n          7         8         9    ...       290       291       292  \\\n,    0.807950  0.067338 -0.131840  ...  0.136150  0.109990 -0.334740   \nthe  0.629320  0.336720 -0.433950  ... -0.041244 -0.461820  0.027903   \n.   -0.032631 -0.625940 -0.518980  ...  0.063131 -0.212300 -0.300880   \nand -0.113710 -0.108480 -0.488850  ...  0.477810 -0.021213 -0.212360   \nto   0.013890 -0.539280 -0.084454  ...  0.082736 -0.624690  0.044267   \n\n          293      294       295       296       297       298       299  \n,   -0.046109  0.10780 -0.035657 -0.012921 -0.039038  0.182740  0.146540  \nthe  0.546570 -0.25894  0.395150  0.261440 -0.540660  0.211990 -0.009436  \n.   -0.451610  0.26480  0.075971 -0.406880 -0.296960  0.159390 -0.149020  \nand  0.423740  0.14083  0.067498 -0.126750 -0.370300 -0.092774  0.390580  \nto   0.606730 -0.12458 -0.154430 -0.163390  0.053097  0.154580 -0.380530  \n\n[5 rows x 300 columns]",
      "text/html": "<div>\n<style scoped>\n    .dataframe tbody tr th:only-of-type {\n        vertical-align: middle;\n    }\n\n    .dataframe tbody tr th {\n        vertical-align: top;\n    }\n\n    .dataframe thead th {\n        text-align: right;\n    }\n</style>\n<table border=\"1\" class=\"dataframe\">\n  <thead>\n    <tr style=\"text-align: right;\">\n      <th></th>\n      <th>0</th>\n      <th>1</th>\n      <th>2</th>\n      <th>3</th>\n      <th>4</th>\n      <th>5</th>\n      <th>6</th>\n      <th>7</th>\n      <th>8</th>\n      <th>9</th>\n      <th>...</th>\n      <th>290</th>\n      <th>291</th>\n      <th>292</th>\n      <th>293</th>\n      <th>294</th>\n      <th>295</th>\n      <th>296</th>\n      <th>297</th>\n      <th>298</th>\n      <th>299</th>\n    </tr>\n  </thead>\n  <tbody>\n    <tr>\n      <th>,</th>\n      <td>0.18378</td>\n      <td>-0.121230</td>\n      <td>-0.119870</td>\n      <td>0.015227</td>\n      <td>-0.191210</td>\n      <td>-0.066074</td>\n      <td>-2.9876</td>\n      <td>0.807950</td>\n      <td>0.067338</td>\n      <td>-0.131840</td>\n      <td>...</td>\n      <td>0.136150</td>\n      <td>0.109990</td>\n      <td>-0.334740</td>\n      <td>-0.046109</td>\n      <td>0.10780</td>\n      <td>-0.035657</td>\n      <td>-0.012921</td>\n      <td>-0.039038</td>\n      <td>0.182740</td>\n      <td>0.146540</td>\n    </tr>\n    <tr>\n      <th>the</th>\n      <td>-0.20838</td>\n      <td>-0.149320</td>\n      <td>-0.017528</td>\n      <td>-0.028432</td>\n      <td>-0.060104</td>\n      <td>-0.264600</td>\n      <td>-4.1445</td>\n      <td>0.629320</td>\n      <td>0.336720</td>\n      <td>-0.433950</td>\n      <td>...</td>\n      <td>-0.041244</td>\n      <td>-0.461820</td>\n      <td>0.027903</td>\n      <td>0.546570</td>\n      <td>-0.25894</td>\n      <td>0.395150</td>\n      <td>0.261440</td>\n      <td>-0.540660</td>\n      <td>0.211990</td>\n      <td>-0.009436</td>\n    </tr>\n    <tr>\n      <th>.</th>\n      <td>0.10876</td>\n      <td>0.002244</td>\n      <td>0.222130</td>\n      <td>-0.121020</td>\n      <td>-0.048959</td>\n      <td>0.018135</td>\n      <td>-3.8174</td>\n      <td>-0.032631</td>\n      <td>-0.625940</td>\n      <td>-0.518980</td>\n      <td>...</td>\n      <td>0.063131</td>\n      <td>-0.212300</td>\n      <td>-0.300880</td>\n      <td>-0.451610</td>\n      <td>0.26480</td>\n      <td>0.075971</td>\n      <td>-0.406880</td>\n      <td>-0.296960</td>\n      <td>0.159390</td>\n      <td>-0.149020</td>\n    </tr>\n    <tr>\n      <th>and</th>\n      <td>-0.09611</td>\n      <td>-0.257880</td>\n      <td>-0.358600</td>\n      <td>-0.328870</td>\n      <td>0.579500</td>\n      <td>-0.517740</td>\n      <td>-4.1582</td>\n      <td>-0.113710</td>\n      <td>-0.108480</td>\n      <td>-0.488850</td>\n      <td>...</td>\n      <td>0.477810</td>\n      <td>-0.021213</td>\n      <td>-0.212360</td>\n      <td>0.423740</td>\n      <td>0.14083</td>\n      <td>0.067498</td>\n      <td>-0.126750</td>\n      <td>-0.370300</td>\n      <td>-0.092774</td>\n      <td>0.390580</td>\n    </tr>\n    <tr>\n      <th>to</th>\n      <td>-0.24837</td>\n      <td>-0.454610</td>\n      <td>0.039227</td>\n      <td>-0.284220</td>\n      <td>-0.031852</td>\n      <td>0.263550</td>\n      <td>-4.6323</td>\n      <td>0.013890</td>\n      <td>-0.539280</td>\n      <td>-0.084454</td>\n      <td>...</td>\n      <td>0.082736</td>\n      <td>-0.624690</td>\n      <td>0.044267</td>\n      <td>0.606730</td>\n      <td>-0.12458</td>\n      <td>-0.154430</td>\n      <td>-0.163390</td>\n      <td>0.053097</td>\n      <td>0.154580</td>\n      <td>-0.380530</td>\n    </tr>\n  </tbody>\n</table>\n<p>5 rows × 300 columns</p>\n</div>"
     },
     "execution_count": 50,
     "metadata": {},
     "output_type": "execute_result"
    }
   ],
   "source": [
    "\n",
    "print(\"shape\", embeddings.shape)\n",
    "embeddings.head()"
   ]
  },
  {
   "cell_type": "code",
   "execution_count": 6,
   "metadata": {
    "pycharm": {
     "name": "#%%\n"
    }
   },
   "outputs": [],
   "source": [
    "# download from here: http://www.cs.uic.edu/~liub/FBS/opinion-lexicon-English.rar\n",
    "positive_words = load_lexicon('data/positive-words.txt')\n",
    "negative_words = load_lexicon('data/negative-words.txt')"
   ]
  },
  {
   "cell_type": "code",
   "execution_count": 7,
   "metadata": {
    "pycharm": {
     "name": "#%%\n"
    }
   },
   "outputs": [
    {
     "data": {
      "text/plain": "4783"
     },
     "execution_count": 7,
     "metadata": {},
     "output_type": "execute_result"
    }
   ],
   "source": [
    "len(negative_words)"
   ]
  },
  {
   "cell_type": "code",
   "execution_count": 8,
   "metadata": {
    "pycharm": {
     "name": "#%%\n"
    }
   },
   "outputs": [],
   "source": [
    "pos_not_in_emb = ['a+', 'achievible', 'amiabily', 'dead-cheap', 'deginified', 'ecenomical', 'err-free', 'exaltedly', 'exaltingly', 'excallent', 'eye-catch', 'fancinating', 'fecilitous', 'futurestic', 'heroize', 'invaluablely', 'jaw-droping', 'jollify', 'pamperedly', 'pamperedness', 'poeticize', 'prospros', 'raptureous', 'raptureously', 'rejoicingly', 'stellarly', 'supurbly', 'upliftingly', 'well-backlit']\n",
    "neg_not_in_emb = ['2-faces', 'acridly', 'acridness', 'admonishingly', 'adulterier', 'asinininity', 'audiciously', 'back-wood', 'backaching', 'banalize', 'bulkyness', 'bull****', 'bull----', 'bullyingly', 'bumpping', 'burdensomely', 'calumniously', 'cataclysmal', 'concens', 'conscons', 'corruptted', 'coupists', 'craftly', 'cuplrit', 'd*mn', 'degenerately', 'degradingly', 'demoralizingly', 'denunciate', 'deploringly', 'depravedly', 'derisiveness', 'desititute', 'destains', 'discomfititure', 'disconsolation', 'discoutinous', 'disgustfully', 'dishonorablely', 'dismalness', 'disoobedient', 'disrespectablity', 'dissocial', 'dissonantly', 'distains', 'distraughtly', 'distraughtness', 'dizzing', 'dizzingly', 'downheartedly', 'election-rigger', 'exorbitantance', 'f**k', 'farcical-yet-provocative', 'fastuous', 'feeblely', 'flakieness', 'flicering', 'gainsayer', 'gimmicking', 'grumpish', 'hoodium', 'horrifys', 'ill-sorted', 'imposers', 'inadverent', 'inadverently', 'incapably', 'indeterminably', 'insociable', 'insupportably', 'inteferes', 'intolerablely', 'invidiousness', 'irksomenesses', 'irragularity', 'irrecoverableness', 'irrecoverablenesses', 'irreplacible', 'irretating', 'jutter', 'jutters', 'layoff-happy', 'lunaticism', 'martyrdom-seeking', 'misbecome', 'misbecoming', 'multi-polarization', 'over-awe', 'overzelous', 'perfidity', 'polemize', 'quarrellous', 'quarrellously', 'rantingly', 'repugn', 'revengefully', 'rremediable', 'scoldingly', 'self-coup', 'selfinterested', 'sh*t', 'sloooooooooooooow', 'slumpping', 'smuttier', 'spoilages', 'spoilled', 'terror-genic', 'tetchily', 'thumb-down', 'tin-y', 'tiringly', 'two-faces', 'ultra-hardline', 'un-viewable', 'unacceptablely', 'unbearablely', 'undependability', 'unintelligile', 'unlamentable', 'unlamentably', 'unprove', 'unproves', 'unproving', 'unspeakablely', 'unuseably', 'uproarous', 'uproarously', 'villianously', 'wripped', 'wripping']"
   ]
  },
  {
   "cell_type": "code",
   "execution_count": 9,
   "metadata": {
    "pycharm": {
     "name": "#%%\n"
    }
   },
   "outputs": [],
   "source": [
    "#pos_words = positive_words\n",
    "#neg_words = negative_words\n",
    "\n",
    "pos_words = remove_from_list(positive_words, pos_not_in_emb)\n",
    "neg_words = remove_from_list(negative_words, neg_not_in_emb )"
   ]
  },
  {
   "cell_type": "code",
   "execution_count": 10,
   "metadata": {
    "pycharm": {
     "name": "#%%\n"
    }
   },
   "outputs": [],
   "source": [
    "pos_vectors_glove = embeddings.loc[pos_words].dropna()\n",
    "neg_vectors_glove = embeddings.loc[neg_words].dropna()"
   ]
  },
  {
   "cell_type": "code",
   "execution_count": 11,
   "metadata": {
    "pycharm": {
     "name": "#%%\n"
    }
   },
   "outputs": [],
   "source": [
    "vectors = pd.concat([pos_vectors_glove, neg_vectors_glove])\n",
    "targets = np.array([1 for entry in pos_vectors_glove.index] + [-1 for entry in neg_vectors_glove.index])\n",
    "labels = list(pos_vectors_glove.index) + list(neg_vectors_glove.index)"
   ]
  },
  {
   "cell_type": "code",
   "execution_count": 12,
   "metadata": {
    "pycharm": {
     "name": "#%%\n"
    }
   },
   "outputs": [],
   "source": [
    "train_vectors, test_vectors, train_targets, test_targets, train_labels, test_labels = train_test_split(vectors, targets, labels, test_size=0.1, random_state=0)"
   ]
  },
  {
   "cell_type": "code",
   "execution_count": 13,
   "metadata": {
    "pycharm": {
     "name": "#%%\n"
    }
   },
   "outputs": [
    {
     "data": {
      "text/plain": "SGDClassifier(loss='log', random_state=0)"
     },
     "execution_count": 13,
     "metadata": {},
     "output_type": "execute_result"
    }
   ],
   "source": [
    "model = SGDClassifier(loss='log', random_state=0, max_iter=1000)\n",
    "model.fit(train_vectors, train_targets)"
   ]
  },
  {
   "cell_type": "code",
   "execution_count": 44,
   "metadata": {
    "pycharm": {
     "name": "#%%\n"
    }
   },
   "outputs": [
    {
     "data": {
      "text/plain": "0.9441930618401206"
     },
     "execution_count": 44,
     "metadata": {},
     "output_type": "execute_result"
    }
   ],
   "source": [
    "accuracy = accuracy_score(model.predict(test_vectors), test_targets)\n",
    "accuracy"
   ]
  },
  {
   "cell_type": "code",
   "execution_count": 15,
   "metadata": {
    "pycharm": {
     "name": "#%%\n"
    }
   },
   "outputs": [],
   "source": [
    "def vecs_to_sentiment(vecs, model):\n",
    "    predictions = model.predict_log_proba(vecs)\n",
    "    return predictions[:, 1] - predictions[:, 0]\n",
    "\n",
    "def words_to_sentiment(words, embeddings, model):\n",
    "    vecs = embeddings.loc[words].dropna()\n",
    "    log_odds = vecs_to_sentiment(vecs, model)\n",
    "    return pd.DataFrame({'sentiment': log_odds}, index=vecs.index)\n",
    "\n"
   ]
  },
  {
   "cell_type": "code",
   "execution_count": 16,
   "metadata": {
    "pycharm": {
     "name": "#%%\n"
    }
   },
   "outputs": [
    {
     "data": {
      "text/plain": "               sentiment\nfidget        -10.523408\ninterrupt     -10.475247\nstaunchly      -0.187009\nimaginary      -3.268410\ntaxing         -0.608206\nworld-famous    6.755397\nlow-cost        9.253170\ndisapointment  -9.399764\ntotalitarian  -13.588078\nbellicose      -9.986888\nfreezes        -8.696587\nsin            -7.985874\nfragile        -4.716583\nfooled         -5.093059\nundecided      -3.265625\nhandily         1.205991\ndemonizes      -2.208930\neasygoing       7.893488\nunpopular      -9.853583\ncommiserate     1.572324",
      "text/html": "<div>\n<style scoped>\n    .dataframe tbody tr th:only-of-type {\n        vertical-align: middle;\n    }\n\n    .dataframe tbody tr th {\n        vertical-align: top;\n    }\n\n    .dataframe thead th {\n        text-align: right;\n    }\n</style>\n<table border=\"1\" class=\"dataframe\">\n  <thead>\n    <tr style=\"text-align: right;\">\n      <th></th>\n      <th>sentiment</th>\n    </tr>\n  </thead>\n  <tbody>\n    <tr>\n      <th>fidget</th>\n      <td>-10.523408</td>\n    </tr>\n    <tr>\n      <th>interrupt</th>\n      <td>-10.475247</td>\n    </tr>\n    <tr>\n      <th>staunchly</th>\n      <td>-0.187009</td>\n    </tr>\n    <tr>\n      <th>imaginary</th>\n      <td>-3.268410</td>\n    </tr>\n    <tr>\n      <th>taxing</th>\n      <td>-0.608206</td>\n    </tr>\n    <tr>\n      <th>world-famous</th>\n      <td>6.755397</td>\n    </tr>\n    <tr>\n      <th>low-cost</th>\n      <td>9.253170</td>\n    </tr>\n    <tr>\n      <th>disapointment</th>\n      <td>-9.399764</td>\n    </tr>\n    <tr>\n      <th>totalitarian</th>\n      <td>-13.588078</td>\n    </tr>\n    <tr>\n      <th>bellicose</th>\n      <td>-9.986888</td>\n    </tr>\n    <tr>\n      <th>freezes</th>\n      <td>-8.696587</td>\n    </tr>\n    <tr>\n      <th>sin</th>\n      <td>-7.985874</td>\n    </tr>\n    <tr>\n      <th>fragile</th>\n      <td>-4.716583</td>\n    </tr>\n    <tr>\n      <th>fooled</th>\n      <td>-5.093059</td>\n    </tr>\n    <tr>\n      <th>undecided</th>\n      <td>-3.265625</td>\n    </tr>\n    <tr>\n      <th>handily</th>\n      <td>1.205991</td>\n    </tr>\n    <tr>\n      <th>demonizes</th>\n      <td>-2.208930</td>\n    </tr>\n    <tr>\n      <th>easygoing</th>\n      <td>7.893488</td>\n    </tr>\n    <tr>\n      <th>unpopular</th>\n      <td>-9.853583</td>\n    </tr>\n    <tr>\n      <th>commiserate</th>\n      <td>1.572324</td>\n    </tr>\n  </tbody>\n</table>\n</div>"
     },
     "execution_count": 16,
     "metadata": {},
     "output_type": "execute_result"
    }
   ],
   "source": [
    "words_to_sentiment(test_labels, embeddings, model).head(20)"
   ]
  },
  {
   "cell_type": "code",
   "execution_count": 17,
   "metadata": {
    "pycharm": {
     "name": "#%%\n"
    }
   },
   "outputs": [],
   "source": [
    "TOKEN_RE = re.compile(r\"\\w.*?\\b\")\n",
    "\n",
    "def text_to_sentiment(text, embeddings, model):\n",
    "    tokens = [token.casefold() for token in TOKEN_RE.findall(text)]\n",
    "    sentiments = words_to_sentiment(tokens, embeddings,  model)\n",
    "    return sentiments['sentiment'].mean()"
   ]
  },
  {
   "cell_type": "code",
   "execution_count": 18,
   "metadata": {
    "pycharm": {
     "name": "#%%\n"
    }
   },
   "outputs": [
    {
     "data": {
      "text/plain": "1.364266357023753"
     },
     "execution_count": 18,
     "metadata": {},
     "output_type": "execute_result"
    }
   ],
   "source": [
    "text_to_sentiment(\"My name is Heather\", embeddings, model)\n"
   ]
  },
  {
   "cell_type": "code",
   "execution_count": 19,
   "metadata": {
    "pycharm": {
     "name": "#%%\n"
    }
   },
   "outputs": [],
   "source": [
    "NAMES_BY_ETHNICITY = {\n",
    "    # The first two lists are from the Caliskan et al. appendix describing the\n",
    "    # Word Embedding Association Test.\n",
    "    'White': [\n",
    "        'Adam', 'Chip', 'Harry', 'Josh', 'Roger', 'Alan', 'Frank', 'Ian', 'Justin',\n",
    "        'Ryan', 'Andrew', 'Fred', 'Jack', 'Matthew', 'Stephen', 'Brad', 'Greg', 'Jed',\n",
    "        'Paul', 'Todd', 'Brandon', 'Hank', 'Jonathan', 'Peter', 'Wilbur', 'Amanda',\n",
    "        'Courtney', 'Heather', 'Melanie', 'Sara', 'Amber', 'Crystal', 'Katie',\n",
    "        'Meredith', 'Shannon', 'Betsy', 'Donna', 'Kristin', 'Nancy', 'Stephanie',\n",
    "        'Ellen', 'Lauren', 'Peggy',  'Colleen', 'Emily',\n",
    "        'Megan', 'Rachel', 'Wendy'\n",
    "    ],\n",
    "\n",
    "    'Black': [\n",
    "        'Alonzo', 'Jamel', 'Theo',  'Jerome',\n",
    "        'Leroy', 'Torrance', 'Darnell', 'Lamar', 'Lionel',\n",
    "        'Tyree', 'Lamont', 'Malik', 'Terrence', 'Tyrone',\n",
    "         'Marcellus', 'Wardell',\n",
    "        'Ebony',\n",
    "        'Jasmine',  'Tia', 'Latoya',\n",
    "        'Yolanda',  'Yvette'\n",
    "    ],\n",
    "\n",
    "    # This list comes from statistics about common Hispanic-origin names in the US.\n",
    "    'Hispanic': [\n",
    "        'Juan', 'José', 'Miguel', 'Jorge', 'Santiago',\n",
    "        'Mateo',  'Alejandro', 'Samuel', 'Diego', 'Daniel',\n",
    "         'Ana', 'Luisa', 'Elena', 'Isabella', 'Valentina',\n",
    "         'Mariana', 'Victoria', 'Martina'\n",
    "    ],\n",
    "\n",
    "    # The following list conflates religion and ethnicity, I'm aware. So do given names.\n",
    "    #\n",
    "    # This list was cobbled together from searching baby-name sites for common Muslim names,\n",
    "    # as spelled in English. I did not ultimately distinguish whether the origin of the name\n",
    "    # is Arabic or Urdu or another language.\n",
    "    #\n",
    "    # I'd be happy to replace it with something more authoritative, given a source.\n",
    "    'Arab/Muslim': [\n",
    "        'Mohammed', 'Omar', 'Ahmed', 'Ali', 'Youssef', 'Abdullah', 'Yasin', 'Hamza',\n",
    "        'Syed', 'Samar', 'Ahmad' ,'Mariam',\n",
    "        'Jana', 'Salma', 'Nour', 'Fatima', 'Ayesha', 'Zahra', 'Sana',\n",
    "        'Zara', 'Yasmin'\n",
    "    ]\n",
    "}"
   ]
  },
  {
   "cell_type": "code",
   "execution_count": 20,
   "metadata": {
    "pycharm": {
     "name": "#%%\n"
    }
   },
   "outputs": [],
   "source": [
    "def name_sentiment_table(embeddings, model):\n",
    "    frames = []\n",
    "    for group, name_list in sorted(NAMES_BY_ETHNICITY.items()):\n",
    "        lower_names = [name.lower() for name in name_list]\n",
    "        sentiments = words_to_sentiment(lower_names, embeddings, model)\n",
    "        sentiments['group'] = group\n",
    "        frames.append(sentiments)\n",
    "\n",
    "    # Put together the data we got from each ethnic group into one big table\n",
    "    return pd.concat(frames)"
   ]
  },
  {
   "cell_type": "code",
   "execution_count": 21,
   "metadata": {
    "pycharm": {
     "name": "#%%\n"
    }
   },
   "outputs": [],
   "source": [
    "name_sentiments = name_sentiment_table(embeddings, model)"
   ]
  },
  {
   "cell_type": "code",
   "execution_count": 22,
   "metadata": {
    "pycharm": {
     "name": "#%%\n"
    }
   },
   "outputs": [
    {
     "data": {
      "text/plain": "          sentiment        group\nmohammed   0.891362  Arab/Muslim\nomar      -3.215986  Arab/Muslim\nahmed      3.541073  Arab/Muslim\nali        3.098263  Arab/Muslim\nyoussef    1.961432  Arab/Muslim\n...             ...          ...\ncolleen    0.607765        White\nemily      5.639965        White\nmegan      1.936170        White\nrachel     1.511845        White\nwendy      0.063296        White\n\n[109 rows x 2 columns]",
      "text/html": "<div>\n<style scoped>\n    .dataframe tbody tr th:only-of-type {\n        vertical-align: middle;\n    }\n\n    .dataframe tbody tr th {\n        vertical-align: top;\n    }\n\n    .dataframe thead th {\n        text-align: right;\n    }\n</style>\n<table border=\"1\" class=\"dataframe\">\n  <thead>\n    <tr style=\"text-align: right;\">\n      <th></th>\n      <th>sentiment</th>\n      <th>group</th>\n    </tr>\n  </thead>\n  <tbody>\n    <tr>\n      <th>mohammed</th>\n      <td>0.891362</td>\n      <td>Arab/Muslim</td>\n    </tr>\n    <tr>\n      <th>omar</th>\n      <td>-3.215986</td>\n      <td>Arab/Muslim</td>\n    </tr>\n    <tr>\n      <th>ahmed</th>\n      <td>3.541073</td>\n      <td>Arab/Muslim</td>\n    </tr>\n    <tr>\n      <th>ali</th>\n      <td>3.098263</td>\n      <td>Arab/Muslim</td>\n    </tr>\n    <tr>\n      <th>youssef</th>\n      <td>1.961432</td>\n      <td>Arab/Muslim</td>\n    </tr>\n    <tr>\n      <th>...</th>\n      <td>...</td>\n      <td>...</td>\n    </tr>\n    <tr>\n      <th>colleen</th>\n      <td>0.607765</td>\n      <td>White</td>\n    </tr>\n    <tr>\n      <th>emily</th>\n      <td>5.639965</td>\n      <td>White</td>\n    </tr>\n    <tr>\n      <th>megan</th>\n      <td>1.936170</td>\n      <td>White</td>\n    </tr>\n    <tr>\n      <th>rachel</th>\n      <td>1.511845</td>\n      <td>White</td>\n    </tr>\n    <tr>\n      <th>wendy</th>\n      <td>0.063296</td>\n      <td>White</td>\n    </tr>\n  </tbody>\n</table>\n<p>109 rows × 2 columns</p>\n</div>"
     },
     "execution_count": 22,
     "metadata": {},
     "output_type": "execute_result"
    }
   ],
   "source": [
    "name_sentiments"
   ]
  },
  {
   "cell_type": "code",
   "execution_count": 52,
   "outputs": [
    {
     "data": {
      "text/plain": "<Figure size 432x288 with 1 Axes>",
      "image/png": "[encoded data removed]"
     },
     "metadata": {
      "needs_background": "light"
     },
     "output_type": "display_data"
    }
   ],
   "source": [
    "plot_glove = seaborn.swarmplot(x='group', y='sentiment', data=name_sentiments)"
   ],
   "metadata": {
    "collapsed": false,
    "pycharm": {
     "name": "#%%\n"
    }
   }
  },
  {
   "cell_type": "code",
   "execution_count": 24,
   "metadata": {
    "pycharm": {
     "name": "#%%\n"
    }
   },
   "outputs": [
    {
     "data": {
      "text/plain": "<class 'statsmodels.iolib.table.SimpleTable'>",
      "text/html": "<table class=\"simpletable\">\n<caption>OLS Regression Results</caption>\n<tr>\n  <th>Dep. Variable:</th>        <td>sentiment</td>    <th>  R-squared:         </th> <td>   0.145</td>\n</tr>\n<tr>\n  <th>Model:</th>                   <td>OLS</td>       <th>  Adj. R-squared:    </th> <td>   0.121</td>\n</tr>\n<tr>\n  <th>Method:</th>             <td>Least Squares</td>  <th>  F-statistic:       </th> <td>   5.934</td>\n</tr>\n<tr>\n  <th>Date:</th>             <td>Mon, 22 Nov 2021</td> <th>  Prob (F-statistic):</th> <td>0.000886</td>\n</tr>\n<tr>\n  <th>Time:</th>                 <td>00:47:28</td>     <th>  Log-Likelihood:    </th> <td> -258.49</td>\n</tr>\n<tr>\n  <th>No. Observations:</th>      <td>   109</td>      <th>  AIC:               </th> <td>   525.0</td>\n</tr>\n<tr>\n  <th>Df Residuals:</th>          <td>   105</td>      <th>  BIC:               </th> <td>   535.7</td>\n</tr>\n<tr>\n  <th>Df Model:</th>              <td>     3</td>      <th>                     </th>     <td> </td>   \n</tr>\n<tr>\n  <th>Covariance Type:</th>      <td>nonrobust</td>    <th>                     </th>     <td> </td>   \n</tr>\n</table>"
     },
     "execution_count": 24,
     "metadata": {},
     "output_type": "execute_result"
    }
   ],
   "source": [
    "ols_model = statsmodels.formula.api.ols('sentiment ~ group', data=name_sentiments).fit()\n",
    "ols_model.summary().tables[0]\n"
   ]
  },
  {
   "cell_type": "code",
   "execution_count": 25,
   "metadata": {
    "pycharm": {
     "name": "#%%\n"
    }
   },
   "outputs": [
    {
     "data": {
      "text/plain": "5.934485356749382"
     },
     "execution_count": 25,
     "metadata": {},
     "output_type": "execute_result"
    }
   ],
   "source": [
    "ols_model.fvalue"
   ]
  },
  {
   "cell_type": "code",
   "execution_count": 26,
   "metadata": {
    "pycharm": {
     "name": "#%%\n"
    }
   },
   "outputs": [],
   "source": [
    "# Use a ConceptNet function to load word2vec into a Pandas frame from its binary format\n",
    "from gensim.models import KeyedVectors\n",
    "import os\n",
    "from gensim.test.utils import datapath\n",
    "\n",
    "#download googlenews embeddings from here: https://drive.google.com/file/d/0B7XkCwpI5KDYNlNUTTlSS21pQmM/edit?usp=sharing\n",
    "# uncomment this code for the word2vec embeddings\n",
    "\n",
    "#w2v_model = KeyedVectors.load_word2vec_format(os.path.abspath(r'C:\\Users\\perni\\Documents\\NTNU\\Racial Bias in Word Embeddings\\data\\GoogleNews-vectors-negative300.bin'), binary=True)\n",
    "#w2v_model.save_word2vec_format('googlenews.txt')\n",
    "# word2vec is case-sensitive, so case-fold its labels"
   ]
  },
  {
   "cell_type": "markdown",
   "metadata": {},
   "source": [
    "# w2v"
   ]
  },
  {
   "cell_type": "code",
   "execution_count": 27,
   "metadata": {
    "pycharm": {
     "name": "#%%\n"
    }
   },
   "outputs": [],
   "source": [
    "positive_words = load_lexicon('data/positive-words.txt')\n",
    "negative_words = load_lexicon('data/negative-words.txt')\n",
    "\n"
   ]
  },
  {
   "cell_type": "code",
   "execution_count": 28,
   "metadata": {
    "pycharm": {
     "name": "#%%\n"
    }
   },
   "outputs": [],
   "source": [
    "w2v = load_embeddings('googlenews.txt')"
   ]
  },
  {
   "cell_type": "code",
   "execution_count": 29,
   "metadata": {
    "pycharm": {
     "name": "#%%\n"
    }
   },
   "outputs": [
    {
     "name": "stdout",
     "output_type": "stream",
     "text": [
      "(91738, 300)\n"
     ]
    },
    {
     "data": {
      "text/plain": "           0         1         2         3         4         5         6    \\\n</s>  0.001129 -0.000896  0.000319  0.001534  0.001106 -0.001404 -0.000031   \nin    0.070312  0.086914  0.087891  0.062500  0.069336 -0.108887 -0.081543   \nfor  -0.011780 -0.047363  0.044678  0.063477 -0.018188 -0.063965 -0.001312   \nthat -0.015747 -0.028320  0.083496  0.050293 -0.110352  0.031738 -0.014221   \nis    0.007050 -0.073242  0.171875  0.022583 -0.132812  0.198242  0.112793   \n\n           7         8         9    ...       290       291       292  \\\n</s> -0.000420 -0.000576  0.001076  ... -0.001549  0.001373 -0.000061   \nin   -0.154297  0.020752  0.131836  ... -0.168945 -0.088867 -0.080566   \nfor  -0.072266  0.064453  0.086426  ... -0.022583  0.003723 -0.082520   \nthat -0.089844  0.117676  0.118164  ... -0.011292 -0.015625 -0.033447   \nis   -0.107910  0.071777  0.020874  ... -0.233398 -0.036377 -0.093750   \n\n           293       294       295       296       297       298       299  \n</s> -0.000824  0.001328  0.001160  0.000568 -0.001564 -0.000123 -0.000086  \nin    0.064941  0.061279 -0.047363 -0.058838 -0.047607  0.014465 -0.062500  \nfor   0.081543  0.007935  0.000477  0.018433  0.071289 -0.034912  0.024170  \nthat -0.020630 -0.019409  0.063965  0.020142  0.006866  0.061035 -0.148438  \nis    0.182617  0.027100  0.127930 -0.024780  0.011230  0.164062  0.106934  \n\n[5 rows x 300 columns]",
      "text/html": "<div>\n<style scoped>\n    .dataframe tbody tr th:only-of-type {\n        vertical-align: middle;\n    }\n\n    .dataframe tbody tr th {\n        vertical-align: top;\n    }\n\n    .dataframe thead th {\n        text-align: right;\n    }\n</style>\n<table border=\"1\" class=\"dataframe\">\n  <thead>\n    <tr style=\"text-align: right;\">\n      <th></th>\n      <th>0</th>\n      <th>1</th>\n      <th>2</th>\n      <th>3</th>\n      <th>4</th>\n      <th>5</th>\n      <th>6</th>\n      <th>7</th>\n      <th>8</th>\n      <th>9</th>\n      <th>...</th>\n      <th>290</th>\n      <th>291</th>\n      <th>292</th>\n      <th>293</th>\n      <th>294</th>\n      <th>295</th>\n      <th>296</th>\n      <th>297</th>\n      <th>298</th>\n      <th>299</th>\n    </tr>\n  </thead>\n  <tbody>\n    <tr>\n      <th>&lt;/s&gt;</th>\n      <td>0.001129</td>\n      <td>-0.000896</td>\n      <td>0.000319</td>\n      <td>0.001534</td>\n      <td>0.001106</td>\n      <td>-0.001404</td>\n      <td>-0.000031</td>\n      <td>-0.000420</td>\n      <td>-0.000576</td>\n      <td>0.001076</td>\n      <td>...</td>\n      <td>-0.001549</td>\n      <td>0.001373</td>\n      <td>-0.000061</td>\n      <td>-0.000824</td>\n      <td>0.001328</td>\n      <td>0.001160</td>\n      <td>0.000568</td>\n      <td>-0.001564</td>\n      <td>-0.000123</td>\n      <td>-0.000086</td>\n    </tr>\n    <tr>\n      <th>in</th>\n      <td>0.070312</td>\n      <td>0.086914</td>\n      <td>0.087891</td>\n      <td>0.062500</td>\n      <td>0.069336</td>\n      <td>-0.108887</td>\n      <td>-0.081543</td>\n      <td>-0.154297</td>\n      <td>0.020752</td>\n      <td>0.131836</td>\n      <td>...</td>\n      <td>-0.168945</td>\n      <td>-0.088867</td>\n      <td>-0.080566</td>\n      <td>0.064941</td>\n      <td>0.061279</td>\n      <td>-0.047363</td>\n      <td>-0.058838</td>\n      <td>-0.047607</td>\n      <td>0.014465</td>\n      <td>-0.062500</td>\n    </tr>\n    <tr>\n      <th>for</th>\n      <td>-0.011780</td>\n      <td>-0.047363</td>\n      <td>0.044678</td>\n      <td>0.063477</td>\n      <td>-0.018188</td>\n      <td>-0.063965</td>\n      <td>-0.001312</td>\n      <td>-0.072266</td>\n      <td>0.064453</td>\n      <td>0.086426</td>\n      <td>...</td>\n      <td>-0.022583</td>\n      <td>0.003723</td>\n      <td>-0.082520</td>\n      <td>0.081543</td>\n      <td>0.007935</td>\n      <td>0.000477</td>\n      <td>0.018433</td>\n      <td>0.071289</td>\n      <td>-0.034912</td>\n      <td>0.024170</td>\n    </tr>\n    <tr>\n      <th>that</th>\n      <td>-0.015747</td>\n      <td>-0.028320</td>\n      <td>0.083496</td>\n      <td>0.050293</td>\n      <td>-0.110352</td>\n      <td>0.031738</td>\n      <td>-0.014221</td>\n      <td>-0.089844</td>\n      <td>0.117676</td>\n      <td>0.118164</td>\n      <td>...</td>\n      <td>-0.011292</td>\n      <td>-0.015625</td>\n      <td>-0.033447</td>\n      <td>-0.020630</td>\n      <td>-0.019409</td>\n      <td>0.063965</td>\n      <td>0.020142</td>\n      <td>0.006866</td>\n      <td>0.061035</td>\n      <td>-0.148438</td>\n    </tr>\n    <tr>\n      <th>is</th>\n      <td>0.007050</td>\n      <td>-0.073242</td>\n      <td>0.171875</td>\n      <td>0.022583</td>\n      <td>-0.132812</td>\n      <td>0.198242</td>\n      <td>0.112793</td>\n      <td>-0.107910</td>\n      <td>0.071777</td>\n      <td>0.020874</td>\n      <td>...</td>\n      <td>-0.233398</td>\n      <td>-0.036377</td>\n      <td>-0.093750</td>\n      <td>0.182617</td>\n      <td>0.027100</td>\n      <td>0.127930</td>\n      <td>-0.024780</td>\n      <td>0.011230</td>\n      <td>0.164062</td>\n      <td>0.106934</td>\n    </tr>\n  </tbody>\n</table>\n<p>5 rows × 300 columns</p>\n</div>"
     },
     "execution_count": 29,
     "metadata": {},
     "output_type": "execute_result"
    }
   ],
   "source": [
    "print(w2v.shape)\n",
    "w2v.head()"
   ]
  },
  {
   "cell_type": "code",
   "execution_count": 30,
   "metadata": {
    "pycharm": {
     "name": "#%%\n"
    }
   },
   "outputs": [],
   "source": [
    "w2v.index = [label.casefold() for label in w2v.index]"
   ]
  },
  {
   "cell_type": "code",
   "execution_count": 31,
   "metadata": {
    "pycharm": {
     "name": "#%%\n"
    }
   },
   "outputs": [],
   "source": [
    "w2v = w2v.reset_index().drop_duplicates(subset='index', keep='first').set_index('index')"
   ]
  },
  {
   "cell_type": "code",
   "execution_count": 32,
   "metadata": {
    "pycharm": {
     "name": "#%%\n"
    }
   },
   "outputs": [
    {
     "data": {
      "text/plain": "(78072, 300)"
     },
     "execution_count": 32,
     "metadata": {},
     "output_type": "execute_result"
    }
   ],
   "source": [
    "w2v.shape"
   ]
  },
  {
   "cell_type": "code",
   "execution_count": 33,
   "metadata": {
    "pycharm": {
     "name": "#%%\n"
    }
   },
   "outputs": [],
   "source": [
    "embeddings2 = w2v\n",
    "remove_pos = ['a+', 'accessable', 'accomodative', 'achievible', 'admiringly', 'adorer', 'adoringly', 'adroit', 'adroitly', 'adulate', 'adulatory', 'advantageously', 'adventuresome', 'affability', 'affably', 'affectation', 'afordable', 'agilely', 'agreeableness', 'agreeably', 'all-around', 'alluringly', 'altruistically', 'amazes', 'ambitiously', 'amiability', 'amiabily', 'amicability', 'apotheosis', 'appreciatively', 'astonish', 'astound', 'astoundingly', 'astutely', 'attune', 'audibly', 'aver', 'awesomely', 'awsome', 'beauteous', 'beautifullly', 'believeable', 'beneficent', 'beneficially', 'benifits', 'best-known', 'best-performing', 'best-selling', 'better-known', 'better-than-expected', 'beutifully', 'blithe', 'brainiest', 'brand-new', 'breathlessness', 'breathtakingly', 'brilliances', 'cashbacks', 'cherub', 'chivalrous', 'chivalry', 'civilize', 'clear-cut', 'cohere', 'comely', 'commendably', 'commodious', 'compactly', 'conciliate', 'congratulation', 'contrasty', 'convience', 'convienient', 'convient', 'cost-effective', 'cost-saving', 'counter-attack', 'counter-attacks', 'courageousness', 'courtly', 'cure-all', 'cuteness', 'danke', 'danken', 'daringly', 'dauntless', 'dead-cheap', 'dead-on', 'deginified', 'delightfulness', 'dependably', 'dexterous', 'dexterously', 'dextrous', 'dignify', 'dirt-cheap', 'divinely', 'dote', 'dotingly', 'dreamland', 'dumbfounding', 'dummy-proof', 'easiness', 'easy-to-use', 'ebullience', 'ebulliently', 'ecenomical', 'ecstasies', 'ecstatically', 'edify', 'effectual', 'effusion', 'effusively', 'effusiveness', 'elate', 'elatedly', 'electrify', 'eminence', 'enchant', 'enchantingly', 'encouragingly', 'energy-efficient', 'energy-saving', 'enjoyably', 'ennoble', 'enrapt', 'enrapture', 'enraptured', 'enthral', 'enthrall', 'enthuse', 'enticingly', 'entrancing', 'enviably', 'enviously', 'enviousness', 'ergonomical', 'err-free', 'eulogize', 'euphorically', 'evaluative', 'exalt', 'exaltation', 'exaltedly', 'exalting', 'exaltingly', 'examplar', 'examplary', 'excallent', 'exceled', 'excelent', 'excellant', 'excellency', 'excitedness', 'excitingly', 'exellent', 'exemplar', 'exhilarate', 'exhilaratingly', 'extoll', 'exuberantly', 'exult', 'exultant', 'exultation', 'exultingly', 'eye-catch', 'eye-catching', 'eyecatch', 'eyecatching', 'fancinating', 'fascinatingly', 'fashionably', 'fast-growing', 'fast-paced', 'fastest-growing', 'favorited', 'favour', 'feasibly', 'feature-rich', 'fecilitous', 'felicitate', 'felicitous', 'fervid', 'fervidly', 'fine-looking', 'first-class', 'first-in-class', 'first-rate', 'flatteringly', 'fortuitously', 'ftw', 'futurestic', 'gaiety', 'gaily', 'gainful', 'gainfully', 'gallantly', 'geekier', 'gentlest', 'gladness', 'glimmering', 'glisten', 'glowingly', 'god-given', 'god-send', 'godlike', 'goodly', 'goood', 'gooood', 'gorgeously', 'graciousness', 'gratifies', 'gratify', 'gratifyingly', 'guiltless', 'halcyon', 'handier', 'hands-down', 'hard-working', 'hardier', 'hearten', 'heroize', 'heros', 'high-quality', 'high-spirited', 'hotcake', 'hotcakes', 'humour', 'humourous', 'idealize', 'idolize', 'illuminati', 'illumine', 'ilu', 'imaculate', 'immaculately', 'impressiveness', 'inestimable', 'inestimably', 'infallibility', 'infallibly', 'ingeniously', 'ingenuous', 'ingenuously', 'inpressed', 'insightfully', 'intelligible', 'intriguingly', 'invaluablely', 'inviolable', 'inviolate', 'invulnerable', 'irreproachable', 'irresistibly', 'issue-free', 'jaw-droping', 'jaw-dropping', 'jollify', 'joyously', 'jubilantly', 'jubilate', 'jubiliant', 'kid-friendly', 'kindliness', 'large-capacity', 'laudably', 'law-abiding', 'light-hearted', 'lionhearted', 'long-lasting', 'lovably', 'loveliness', 'low-cost', 'low-price', 'low-priced', 'low-risk', 'lower-priced', 'lucidly', 'luckiness', 'lustrous', 'luxuriant', 'luxuriate', 'luxuriously', 'magnanimously', 'maneuverable', 'marvelled', 'marvellous', 'marvelousness', 'matchless', 'maturely', 'merriness', 'mesmerize', 'mesmerizes', 'mesmerizingly', 'mind-blowing', 'miraculousness', 'monumentally', 'multi-purpose', 'neatest', 'nobly', 'noiseless', 'non-violence', 'non-violent', 'outstandingly', 'pain-free', 'painlessly', 'pamperedly', 'pamperedness', 'peaceable', 'pepped', 'pepping', 'peps', 'personages', 'pleasingly', 'pleasurably', 'plusses', 'poeticize', 'pre-eminent', 'prefered', 'preferes', 'prettily', 'problem-free', 'problem-solver', 'prodigiously', 'proficiently', 'profuse', 'propitious', 'propitiously', 'prospros', 'radiance', 'raptureous', 'raptureously', 'rapturous', 'rapturously', 'razor-sharp', 'realizable', 'recomend', 'record-setting', 'rectification', 'regally', 'rejoicingly', 'remunerate', 'resound', 'reverent', 'reverently', 'revolutionizes', 'rewardingly', 'righten', 'righteously', 'rightness', 'risk-free', 'rock-star', 'rock-stars', 'rockstars', 'romanticize', 'roomier', 'sagacity', 'sagely', 'saintliness', 'salutary', 'satisified', 'self-determination', 'self-respect', 'self-satisfaction', 'self-sufficiency', 'self-sufficient', 'shimmeringly', 'slammin', 'smilingly', 'smoothes', 'solicitous', 'solicitously', 'soothingly', 'spellbind', 'spellbindingly', 'state-of-the-art', 'statuesque', 'staunchness', 'steadiest', 'steadiness', 'stellarly', 'stirringly', 'stupendously', 'suavely', 'succes', 'sufficed', 'suffices', 'sumptuously', 'sumptuousness', 'supurb', 'supurbly', 'swankier', 'swankiest', 'swiftness', 'tantalize', 'tantalizingly', 'temptingly', 'tenaciously', 'tenderly', 'thrillingly', 'thumb-up', 'thumbs-up', 'time-honored', 'tingle', 'titillate', 'titillatingly', 'toll-free', 'top-notch', 'top-quality', 'topnotch', 'triumphal', 'trivially', 'trouble-free', 'trustingly', 'twinkly', 'ultra-crisp', 'unbound', 'undisputable', 'undisputably', 'upgradable', 'upliftingly', 'upliftment', 'user-friendly', 'user-replaceable', 'venerate', 'vibrantly', 'virtuously', 'vouchsafe', 'warmhearted', 'well-backlit', 'well-balanced', 'well-behaved', 'well-being', 'well-bred', 'well-connected', 'well-educated', 'well-established', 'well-informed', 'well-intentioned', 'well-known', 'well-made', 'well-managed', 'well-mannered', 'well-positioned', 'well-received', 'well-regarded', 'well-rounded', 'well-run', 'well-wishers', 'whooa', 'whoooa', 'wieldy', 'wonderous', 'wonderously', 'world-famous', 'worth-while', 'zippy']\n",
    "remove_neg = ['2-faced', '2-faces', 'abominably', 'abominate', 'aborts', 'abrade', 'abscond', 'absent-minded', 'absurdness', 'abysmally', 'accost', 'accursed', 'accusingly', 'acerbate', 'acerbically', 'ached', 'achey', 'acrid', 'acridly', 'acridness', 'acrimoniously', 'admonisher', 'admonishingly', 'adulterate', 'adulteration', 'adulterier', 'afflictive', 'aggrieve', 'aggrivation', 'agonies', 'agonize', 'ail', 'anarchism', 'anarchistic', 'angriness', 'anti-', 'anti-american', 'anti-israeli', 'anti-occupation', 'anti-proliferation', 'anti-semites', 'anti-social', 'anti-us', 'anti-white', 'anxiousness', 'apathetically', 'appal', 'appall', 'appallingly', 'apprehensively', 'arduously', 'asininely', 'asinininity', 'askance', 'asperse', 'aspersion', 'aspersions', 'assail', 'assult', 'asunder', 'audaciously', 'audaciousness', 'audiciously', 'autocrat', 'avarice', 'avaricious', 'avariciously', 'aweful', 'awfulness', 'back-logged', 'back-wood', 'back-woods', 'backache', 'backaches', 'backaching', 'backbite', 'backbiting', 'backwood', 'bafflement', 'banalize', 'barbarically', 'barbarity', 'barbarous', 'barbarously', 'beastly', 'bedlamite', 'befoul', 'beggarly', 'beguile', 'belabor', 'beleaguer', 'belligerently', 'bereave', 'beseech', 'besiege', 'besmirch', 'bestial', 'betrayals', 'betrayer', 'bewail', 'bewilder', 'bewilderingly', 'bewitch', 'bid-rigging', 'bigotries', 'bitingly', 'blab', 'blabber', 'blameworthy', 'blandish', 'blaspheme', 'blather', 'bleakly', 'bleakness', 'blindingly', 'blockhead', 'blotchy', 'blundering', 'bluring', 'blurt', 'boggle', 'botch', 'bowdlerize', 'braggart', 'bragger', 'brainless', 'brainwash', 'brashly', 'brashness', 'brazenness', 'break-up', 'break-ups', 'brimstone', 'broken-hearted', 'browbeat', 'brusque', 'brutalising', 'brutalities', 'brutalize', 'brutalizing', 'bulkier', 'bulkiness', 'bulkyness', 'bull****', 'bull----', 'bullshyt', 'bullyingly', 'bumpping', 'bungle', 'bungler', 'burdensomely', 'busybody', 'butchery', 'cackle', 'calamitously', 'calumniate', 'calumniation', 'calumnies', 'calumnious', 'calumniously', 'calumny', 'cannibal', 'capriciously', 'capriciousness', 'cash-strapped', 'castigate', 'castrated', 'cataclysm', 'cataclysmal', 'cataclysmically', 'catastrophically', 'catastrophies', 'caustically', 'chafe', 'chasten', 'chastisement', 'chatterbox', 'cheapen', 'cheerless', 'chide', 'chintzy', 'choleric', 'clamorous', 'coldly', 'collude', 'combust', 'commiserate', 'commotions', 'conceited', 'concen', 'concens', 'condemnable', 'condescend', 'condescendingly', 'confusions', 'conscons', 'contaminates', 'contemptible', 'contemptuously', 'contort', 'contortions', 'contrariness', 'contrive', 'corrode', 'corrosions', 'corrupts', 'corruptted', 'counter-productive', 'coupists', 'covetous', 'crabby', 'craftily', 'craftly', 'cravenly', 'crazily', 'creak', 'creaks', 'credulous', 'cringes', 'cripples', 'crowdedness', 'crueler', 'cruelest', 'cruelness', 'cruelties', 'crumple', 'crumples', 'cunt', 'cunts', 'cuplrit', 'cuss', 'cussed', 'd*mn', 'damnable', 'damnably', 'damnation', 'dangerousness', 'dastard', 'daunt', 'dauntingly', 'dawdle', 'deadbeat', 'deadweight', 'debase', 'debasement', 'debaser', 'debauch', 'debaucher', 'debilitate', 'debility', 'deceitfully', 'deceitfulness', 'deceiver', 'deceivers', 'declaim', 'decrement', 'decrepitude', 'defamations', 'defile', 'defiler', 'deform', 'degenerately', 'degradingly', 'dehumanization', 'dehumanize', 'deign', 'deject', 'dejectedly', 'dejection', 'delude', 'demolisher', 'demonizes', 'demoralizingly', 'denunciate', 'deplorably', 'deploring', 'deploringly', 'deprave', 'depravedly', 'deprecate', 'depressingly', 'derisive', 'derisively', 'derisiveness', 'desecrate', 'desiccate', 'desiccated', 'desititute', 'desolately', 'despairingly', 'despicably', 'despoil', 'despoiler', 'despondence', 'despondency', 'despondently', 'despotism', 'destabilisation', 'destains', 'desultory', 'detestable', 'detestably', 'detesting', 'detests', 'detracted', 'detracting', 'detraction', 'devastates', 'devastatingly', 'devilishly', 'devilment', 'devilry', 'deviously', 'deviousness', 'diabolic', 'diabolically', 'diametrically', 'diappointed', 'diatribes', 'die-hard', 'diffidence', 'dilly-dally', 'dings', 'dinky', 'direly', 'direness', 'dirtbag', 'dirtbags', 'dirts', 'disaccord', 'disadvantageous', 'disaffect', 'disaffirm', 'disagreeably', 'disapointed', 'disapointing', 'disapointment', 'disapprobation', 'disasterous', 'disavowal', 'disbelieve', 'disbeliever', 'disclaim', 'discombobulate', 'discomfit', 'discomfititure', 'discompose', 'disconcert', 'disconcerted', 'disconcertingly', 'disconsolate', 'disconsolately', 'disconsolation', 'discontented', 'discontentedly', 'discontinuity', 'discontinuous', 'discordance', 'discordant', 'discountenance', 'discouragingly', 'discourteous', 'discourteously', 'discoutinous', 'discrepant', 'disdained', 'disdainful', 'disdainfully', 'disfavor', 'disgracefully', 'disgruntle', 'disgustedly', 'disgustful', 'disgustfully', 'disgustingly', 'dishearten', 'dishearteningly', 'dishonorablely', 'disillusion', 'disillusions', 'disinclination', 'disinclined', 'disingenuously', 'disintegrates', 'disliking', 'dismally', 'dismalness', 'dismaying', 'dismayingly', 'disobedient', 'disoobedient', 'disordered', 'disorient', 'disparagingly', 'dispensable', 'dispirit', 'dispiritedly', 'displease', 'displeasing', 'disputable', 'disquietingly', 'disquietude', 'disregardful', 'disreputable', 'disrespectable', 'disrespectablity', 'disrespectfully', 'disrespectfulness', 'dissapointed', 'dissappointed', 'dissappointing', 'dissatisfactory', 'dissatisfies', 'dissatisfy', 'dissatisfying', 'dissemble', 'dissembler', 'dissenter', 'dissention', 'disses', 'dissidence', 'dissocial', 'dissolute', 'dissonance', 'dissonant', 'dissonantly', 'dissuasive', 'distains', 'distastefully', 'distraughtly', 'distraughtness', 'distressingly', 'distrusting', 'disvalue', 'divisively', 'dizzing', 'dizzingly', 'doddering', 'dodgey', 'domineer', 'donside', 'doubtfully', 'douchbag', 'douchebag', 'douchebags', 'downfallen', 'downhearted', 'downheartedly', 'draconic', 'dragoon', 'dreadfully', 'dreadfulness', 'drippy', 'droop', 'droops', 'drop-out', 'drop-outs', 'drunkard', 'dubiously', 'dubitable', 'dullard', 'dumbfound', 'dunce', 'earsplitting', 'effrontery', 'egocentric', 'egomania', 'egotism', 'egotistically', 'egregiously', 'election-rigger', 'emasculate', 'embroil', 'embroilment', 'enervate', 'enfeeble', 'enflame', 'enjoin', 'enrage', 'enraging', 'enslave', 'entangle', 'entrap', 'enviously', 'enviousness', 'equivocal', 'evildoer', 'eviscerate', 'exagerate', 'exagerated', 'exagerates', 'exasperate', 'exasperatingly', 'excoriate', 'execrate', 'exhorbitant', 'exhort', 'exorbitantance', 'exorbitantly', 'expropriate', 'expulse', 'expunge', 'extravagantly', 'f**k', 'facetious', 'facetiously', 'fainthearted', 'faithless', 'fallacies', 'fallacious', 'fallaciously', 'fallaciousness', 'famished', 'fanatically', 'far-fetched', 'farcical-yet-provocative', 'farcically', 'fastidious', 'fastidiously', 'fastuous', 'fat-cat', 'fat-cats', 'fatalistic', 'fatalistically', 'fatcat', 'fatcats', 'fatefully', 'fathomless', 'fatique', 'fatuity', 'fatuous', 'fatuously', 'fawningly', 'fearfully', 'feeblely', 'feebleminded', 'feign', 'feint', 'felonious', 'fetid', 'fib', 'fibber', 'fidget', 'fidgety', 'fiend', 'fiendish', 'finagle', 'flabbergast', 'flagrantly', 'flairs', 'flakey', 'flakieness', 'flaking', 'flareup', 'flareups', 'flat-out', 'fleed', 'fleer', 'flicering', 'flickers', 'flighty', 'flimflam', 'fluster', 'forebodingly', 'forgetfully', 'forlornly', 'forswear', 'foully', 'foulness', 'fractiously', 'franticly', 'frazzle', 'freakishly', 'frenetically', 'fretful', 'frigging', 'frightfully', 'fruitlessly', 'full-blown', 'fulminate', 'fume', 'funnily', 'fustigate', 'fusty', 'futilely', 'gabble', 'gaff', 'gainsay', 'gainsayer', 'gallingly', 'galls', 'gape', 'gauche', 'gawky', 'geezer', 'get-rich', 'ghosting', 'gibber', 'gibe', 'gimmicked', 'gimmicking', 'glaringly', 'glibly', 'gloatingly', 'glower', 'goading', 'god-awful', 'goon', 'graceless', 'gracelessly', 'grievously', 'grouch', 'grouchy', 'gruesomely', 'grumpier', 'grumpiest', 'grumpily', 'grumpish', 'guiltily', 'hairloss', 'halfhearted', 'halfheartedly', 'hallucinate', 'hallucination', 'harangue', 'harasses', 'hard-hit', 'hard-line', 'hard-liner', 'hardheaded', 'hardhearted', 'harpy', 'harridan', 'hasseling', 'hatefully', 'hatefulness', 'haughtily', 'head-aches', 'heartbreakingly', 'heathen', 'heavy-handed', 'heavyhearted', 'heckle', 'heckles', 'heedless', 'hegemonism', 'hegemonistic', 'hell-bent', 'hellion', 'hells', 'heretic', 'hestitant', 'hideously', 'hideousness', 'high-priced', 'hiliarious', 'hissed', 'ho-hum', 'hoodium', 'hoodwink', 'hooligan', 'horrendously', 'horrifies', 'horrify', 'horrifys', 'hothead', 'hotheaded', 'hothouse', 'huckster', 'hurted', 'hypocricy', 'hypocritically', 'hysteric', 'hysterically', 'idiocies', 'idiotically', 'ignoble', 'ignominiously', 'ill-advised', 'ill-conceived', 'ill-defined', 'ill-designed', 'ill-fated', 'ill-favored', 'ill-formed', 'ill-mannered', 'ill-natured', 'ill-sorted', 'ill-tempered', 'ill-treated', 'ill-treatment', 'ill-usage', 'ill-used', 'illogic', 'illogically', 'imbecile', 'imminence', 'immoderate', 'immoderately', 'immodest', 'immorally', 'impatiently', 'impedance', 'impenitent', 'imperfection', 'imperfectly', 'imperiously', 'impertinent', 'impetuous', 'impetuously', 'impiety', 'impious', 'implacable', 'implausibly', 'impolite', 'impolitely', 'impolitic', 'importunate', 'importune', 'imposers', 'impossiblity', 'impoverish', 'imprecate', 'imprecisely', 'imprecision', 'improbability', 'imprudence', 'impudence', 'impudent', 'impudently', 'impugn', 'impulsively', 'impure', 'impurity', 'inadverent', 'inadverently', 'inadvisable', 'inadvisably', 'inanely', 'inapt', 'inaptitude', 'inarticulate', 'incapably', 'incautious', 'incivility', 'inclement', 'incognizant', 'incoherence', 'incoherently', 'incommensurate', 'incomparably', 'incompatability', 'incompetently', 'incompliant', 'incomprehension', 'inconceivably', 'incongruously', 'inconsequent', 'inconsequentially', 'inconsequently', 'inconsiderately', 'inconsistence', 'inconsolably', 'inconstant', 'inconveniently', 'incorrigible', 'incorrigibly', 'incredulously', 'indecently', 'indecisively', 'indecorum', 'indelicate', 'indeterminable', 'indeterminably', 'indignantly', 'indiscernible', 'indiscreet', 'indiscreetly', 'indiscriminating', 'indoctrinate', 'indolent', 'ineffectively', 'ineffectually', 'ineffectualness', 'inefficacious', 'inefficacy', 'inefficiently', 'inelegance', 'inelegant', 'ineloquent', 'ineloquently', 'ineptly', 'inequitably', 'inescapably', 'inessential', 'inexcusably', 'inexpert', 'inexpertly', 'inexpiable', 'inexplainable', 'inextricable', 'inextricably', 'inferiority', 'infernal', 'infest', 'infiltrator', 'inflammed', 'infuriatingly', 'inglorious', 'ingrate', 'ingratitude', 'inhospitality', 'inimically', 'iniquitous', 'iniquity', 'injudicious', 'inordinately', 'insensible', 'insensitively', 'insidiously', 'insignificance', 'insignificantly', 'insincerely', 'insincerity', 'insociable', 'insolence', 'insolent', 'insolently', 'insouciance', 'instable', 'instigators', 'insubordinate', 'insubstantial', 'insubstantially', 'insufferably', 'insufficiency', 'insultingly', 'insupportable', 'insupportably', 'insurmountably', 'intefere', 'inteferes', 'intimidatingly', 'intolerablely', 'intoxicate', 'invalidity', 'inveigle', 'invidious', 'invidiously', 'invidiousness', 'irascible', 'irately', 'irk', 'irking', 'irksome', 'irksomely', 'irksomeness', 'irksomenesses', 'ironical', 'irragularity', 'irrationalities', 'irrationality', 'irrationally', 'irrationals', 'irrecoverable', 'irrecoverableness', 'irrecoverablenesses', 'irrecoverably', 'irredeemable', 'irredeemably', 'irreformable', 'irreplacible', 'irresolute', 'irresolvable', 'irretating', 'irretrievable', 'irritably', 'irritations', 'jabber', 'jaundiced', 'jealously', 'jealousness', 'jeer', 'jeeringly', 'job-killing', 'judder', 'juddering', 'judders', 'junky', 'jutter', 'jutters', 'kaput', 'killjoy', 'knave', 'kook', 'lackeys', 'laggy', 'laid-off', 'lambast', 'lambaste', 'lame-duck', 'lamentably', 'languor', 'languorous', 'languorously', 'lascivious', 'last-ditch', 'lawbreaker', 'lawbreaking', 'layoff-happy', 'lech', 'lecher', 'lecherous', 'lechery', 'leer', 'left-leaning', 'less-developed', 'lesser-known', 'letch', 'lewdly', 'licentious', 'licentiously', 'licentiousness', 'lier', 'life-threatening', 'little-known', 'lividly', 'loathly', 'loathsomely', 'long-time', 'long-winded', 'longingly', 'lorn', 'lovelorn', 'low-rated', 'ludicrously', 'lugubrious', 'lunaticism', 'maddeningly', 'madder', 'maladjusted', 'maladjustment', 'malcontent', 'malcontented', 'maledict', 'malevolence', 'malevolently', 'maliciousness', 'malodorous', 'mangle', 'mangles', 'mangling', 'manipulators', 'martyrdom-seeking', 'mawkish', 'mawkishly', 'mawkishness', 'meanness', 'meddlesome', 'melodramatically', 'mendacious', 'mendacity', 'menial', 'miff', 'mindlessly', 'misalign', 'misaligned', 'misaligns', 'misapprehend', 'misbecome', 'misbecoming', 'misbegotten', 'miscalculate', 'mischievously', 'miscreant', 'miser', 'miserableness', 'misgiving', 'misguidance', 'misguide', 'mishandle', 'misinform', 'misjudge', 'misleadingly', 'mislike', 'mismanage', 'mispronounce', 'mispronounced', 'mispronounces', 'misstatement', 'mistified', 'mistrustful', 'mistrustfully', 'mists', 'mockeries', 'mockingly', 'monstrosities', 'monstrously', 'mope', 'morbidly', 'mordant', 'mordantly', 'mortification', 'mortify', 'mortifying', 'mourner', 'mournfully', 'mudslinger', 'mulish', 'multi-polarization', 'murderously', 'muscle-flexing', 'mystify', 'nastily', 'nauseate', 'nauseates', 'nauseatingly', 'nebulously', 'nefariously', 'negation', 'nettle', 'nettlesome', 'neurotically', 'niggle', 'nightmarishly', 'nitpick', 'nitpicking', 'noisier', 'non-confidence', 'nonresponsive', 'nosey', 'obnoxiously', 'obscenely', 'obsessiveness', 'obstinately', 'obstructs', 'obtrusive', 'occlude', 'occluded', 'occludes', 'occluding', 'odder', 'offence', 'offensiveness', 'officious', 'one-sided', 'onerously', 'oppressively', 'oppressiveness', 'ostracize', 'outrageousness', 'over-acted', 'over-awe', 'over-balanced', 'over-hyped', 'over-priced', 'over-valuation', 'overact', 'overacted', 'overawe', 'overbalance', 'overbalanced', 'overbearingly', 'overemphasize', 'overpayed', 'overplay', 'oversights', 'oversimplification', 'oversimplified', 'oversimplify', 'overstatements', 'overstates', 'overthrows', 'overzealously', 'overzelous', 'painfull', 'panders', 'panick', 'paralize', 'partiality', 'passe', 'passiveness', 'pauper', 'paupers', 'pedantic', 'peeve', 'peevish', 'peevishly', 'perfidious', 'perfidity', 'perilously', 'perplex', 'perplexity', 'pertinacious', 'pertinaciously', 'pertinacity', 'perturb', 'perversity', 'pessimistically', 'pestilent', 'petrify', 'pettifog', 'phobic', 'pillory', 'pimple', 'pitiable', 'pitifully', 'pitiless', 'pitilessly', 'plagiarize', 'plasticky', 'plaything', 'plebeian', 'plunderer', 'pointlessly', 'poisonously', 'pokey', 'poky', 'polarisation', 'polemize', 'polution', 'prate', 'pratfall', 'prattle', 'preoccupy', 'preposterously', 'presumptuously', 'pretence', 'pretentiously', 'prevaricate', 'prickle', 'prickles', 'prideful', 'prik', 'procrastinates', 'prohibitively', 'propagandize', 'pugnaciously', 'pugnacity', 'puzzlement', 'quack', 'qualm', 'quarrellous', 'quarrellously', 'quarrelsome', 'quibbles', 'rankle', 'rantingly', 'rascal', 'rascals', 'recourses', 'refutation', 'regreted', 'regretfully', 'relentlessness', 'remorsefully', 'remorseless', 'remorselessly', 'remorselessness', 'reprehensibly', 'reprehension', 'reprehensive', 'reproachful', 'reprove', 'reprovingly', 'repugn', 'repugnance', 'repugnantly', 'repulse', 'repulsing', 'repulsively', 'repulsiveness', 'retardedness', 'retards', 'revengeful', 'revengefully', 'revile', 'revoltingly', 'revulsive', 'rhapsodize', 'ricer', 'ridicules', 'rigidness', 'rip-off', 'ripoff', 'rremediable', 'ruffian', 'rumple', 'run-down', 'rusts', 'sadden', 'saggy', 'sags', 'sanctimonious', 'sardonically', 'satirize', 'scaly', 'scandalize', 'scandalously', 'scandel', 'scandels', 'scarily', 'scathingly', 'sceptical', 'scoffingly', 'scoldingly', 'scorchingly', 'scornful', 'scornfully', 'scoundrel', 'screw-up', 'screwed-up', 'screwy', 'scuff', 'scuffs', 'scummy', 'second-class', 'second-tier', 'seethe', 'self-coup', 'self-criticism', 'self-defeating', 'self-destructive', 'self-humiliation', 'self-interest', 'self-interested', 'self-serving', 'selfinterested', 'semi-retarded', 'senile', 'sensationalize', 'senselessly', 'sermonize', 'set-up', 'sh*t', 'shamefulness', 'shamelessness', 'shemale', 'shimmy', 'shirker', 'short-lived', 'shortchange', 'shortsightedness', 'shrew', 'shrilly', 'shrivel', 'sicken', 'sickeningly', 'sillily', 'simplistically', 'sinfully', 'sinisterly', 'skeptically', 'skittishly', 'skulk', 'slanderer', 'slanderously', 'slanders', 'slogs', 'sloooooooooooooow', 'sloooow', 'slooow', 'sloow', 'sloppily', 'slothful', 'slow-moving', 'sloww', 'slowww', 'slowwww', 'slumpping', 'sluts', 'smolder', 'smoulder', 'smouldering', 'smudged', 'smudges', 'smudging', 'smugly', 'smut', 'smuttier', 'smuttiest', 'smutty', 'snappish', 'snappishly', 'sneakily', 'sneeringly', 'snobbish', 'snobby', 'snobish', 'so-cal', 'soapy', 'solicitude', 'sorrowfully', 'sourly', 'spendy', 'spinster', 'spiritless', 'spitefully', 'spitefulness', 'splatter', 'spoilage', 'spoilages', 'spoilled', 'spookier', 'spookiest', 'spookily', 'spoon-fed', 'spoon-feed', 'spoonfed', 'squeaks', 'squeaky', 'stammer', 'startle', 'stereotypically', 'stiflingly', 'stingingly', 'straggle', 'straggler', 'stressfully', 'stridently', 'stringently', 'stupidest', 'stupified', 'stupify', 'stutters', 'sty', 'sub-par', 'subjection', 'subjugate', 'subservience', 'subversively', 'sucky', 'sueing', 'sugar-coat', 'sugar-coated', 'sugarcoated', 'sunder', 'superficiality', 'tarnishes', 'tauntingly', 'teasingly', 'tediously', 'tenuously', 'terribleness', 'terror-genic', 'testily', 'tetchily', 'tetchy', 'thoughtlessly', 'thoughtlessness', 'throb', 'throbbed', 'throbs', 'thumb-down', 'thumbs-down', 'time-consuming', 'timidly', 'timidness', 'tin-y', 'tingled', 'tiringly', 'top-heavy', 'torturously', 'traduce', 'traitorous', 'traitorously', 'transgress', 'traped', 'traumatically', 'traumatize', 'travesties', 'treacherously', 'treasonous', 'trivialize', 'troublesomely', 'troublingly', 'two-faced', 'two-faces', 'tyrannically', 'ulterior', 'ultimatums', 'ultra-hardline', 'un-viewable', 'unacceptablely', 'unaccessible', 'unachievable', 'unauthentic', 'unavoidably', 'unbearablely', 'uncivil', 'uncollectible', 'uncomfy', 'uncompromisingly', 'unconvincingly', 'uncouth', 'uncreative', 'undependability', 'undependable', 'underpowered', 'undissolved', 'uneasily', 'uneconomical', 'unfaithfully', 'unfeeling', 'ungovernable', 'unhappily', 'unimaginably', 'unintelligile', 'unipolar', 'unjustifiably', 'unkindly', 'unlamentable', 'unlamentably', 'unlawfulness', 'unnaturally', 'unnerve', 'unnervingly', 'unobserved', 'unorthodoxy', 'unpleasantries', 'unprove', 'unproved', 'unproves', 'unproving', 'unrelentingly', 'unreliability', 'unscrupulously', 'unsecure', 'unsettlingly', 'unspeakablely', 'unsteadily', 'unsteadiness', 'unsupportive', 'unthinkably', 'unusably', 'unuseable', 'unuseably', 'unviewable', 'unwatchable', 'unwillingly', 'upbraid', 'uproarious', 'uproariously', 'uproarous', 'uproarously', 'upseting', 'upsettingly', 'usurper', 'vagrant', 'vainly', 'vengefully', 'vengefulness', 'venomously', 'vex', 'vexation', 'vexingly', 'vibrated', 'vibrates', 'viciousness', 'vileness', 'villainously', 'villian', 'villianous', 'villianously', 'villify', 'vindictively', 'vindictiveness', 'virulence', 'virulently', 'vomits', 'wack', 'war-like', 'warlike', 'washed-out', 'wastefulness', 'water-down', 'watered-down', 'wearisome', 'wheedle', 'wickedly', 'woebegone', 'worriedly', 'worrier', 'worthlessly', 'worthlessness', 'wreaks', 'wretch', 'wretchedly', 'wretchedness', 'wrip', 'wripped', 'wripping', 'writhe', 'zaps', 'zealot', 'zealously']"
   ]
  },
  {
   "cell_type": "code",
   "execution_count": 34,
   "metadata": {
    "pycharm": {
     "name": "#%%\n"
    }
   },
   "outputs": [],
   "source": [
    "neg_words2 =  remove_from_list(negative_words, remove_neg)\n",
    "pos_words2 = remove_from_list(positive_words, remove_pos)"
   ]
  },
  {
   "cell_type": "code",
   "execution_count": 35,
   "metadata": {
    "pycharm": {
     "name": "#%%\n"
    }
   },
   "outputs": [],
   "source": [
    "pos_vectors2 = embeddings2.loc[pos_words2].dropna()\n",
    "neg_vectors2 = embeddings2.loc[neg_words2].dropna()"
   ]
  },
  {
   "cell_type": "code",
   "execution_count": 36,
   "metadata": {
    "pycharm": {
     "name": "#%%\n"
    }
   },
   "outputs": [],
   "source": [
    "vectors2 = pd.concat([pos_vectors2, neg_vectors2])\n",
    "targets2 = np.array([1 for entry in pos_vectors2.index] + [-1 for entry in neg_vectors2.index])\n",
    "labels2 = list(pos_vectors2.index) + list(neg_vectors2.index)"
   ]
  },
  {
   "cell_type": "code",
   "execution_count": 37,
   "metadata": {
    "pycharm": {
     "name": "#%%\n"
    }
   },
   "outputs": [],
   "source": [
    "train_vectors2, test_vectors2, train_targets2, test_targets2, train_labels2, test_labels2 = \\\n",
    "        train_test_split(vectors2, targets2, labels2, test_size=0.1, random_state=0)"
   ]
  },
  {
   "cell_type": "code",
   "execution_count": 38,
   "metadata": {
    "pycharm": {
     "name": "#%%\n"
    }
   },
   "outputs": [
    {
     "data": {
      "text/plain": "SGDClassifier(loss='log', random_state=0)"
     },
     "execution_count": 38,
     "metadata": {},
     "output_type": "execute_result"
    }
   ],
   "source": [
    "model2 = SGDClassifier(loss='log', random_state=0)\n",
    "model2.fit(train_vectors2, train_targets2)"
   ]
  },
  {
   "cell_type": "code",
   "execution_count": 39,
   "metadata": {
    "pycharm": {
     "name": "#%%\n"
    }
   },
   "outputs": [
    {
     "name": "stdout",
     "output_type": "stream",
     "text": [
      "Accuracy of sentiment: 95.87%\n"
     ]
    }
   ],
   "source": [
    "accuracy2 = accuracy_score(model2.predict(test_vectors2), test_targets2)\n",
    "print(\"Accuracy of sentiment: {:.2%}\".format(accuracy2))"
   ]
  },
  {
   "cell_type": "code",
   "execution_count": 51,
   "metadata": {
    "pycharm": {
     "name": "#%%\n"
    }
   },
   "outputs": [
    {
     "name": "stdout",
     "output_type": "stream",
     "text": [
      "F-value of bias: 12.543\n",
      "Probability given null hypothesis: 4.5e-07\n"
     ]
    },
    {
     "data": {
      "text/plain": "(-10.0, 10.0)"
     },
     "execution_count": 51,
     "metadata": {},
     "output_type": "execute_result"
    },
    {
     "data": {
      "text/plain": "<Figure size 432x288 with 1 Axes>",
      "image/png": "[encoded data removed]"
     },
     "metadata": {
      "needs_background": "light"
     },
     "output_type": "display_data"
    }
   ],
   "source": [
    "name_sentiments2 = name_sentiment_table(embeddings2, model2)\n",
    "ols_model2 = statsmodels.formula.api.ols('sentiment ~ group', data=name_sentiments2).fit()\n",
    "print(\"F-value of bias: {:.3f}\".format(ols_model2.fvalue))\n",
    "print(\"Probability given null hypothesis: {:.3}\".format(ols_model2.f_pvalue))\n",
    "\n",
    "# Show the results on a swarm plot, with a consistent Y-axis\n",
    "plot = seaborn.swarmplot(x='group', y='sentiment', data=name_sentiments2)\n",
    "plot.set_ylim([-10, 10])\n",
    "\n"
   ]
  },
  {
   "cell_type": "code",
   "execution_count": 40,
   "metadata": {
    "pycharm": {
     "name": "#%%\n"
    }
   },
   "outputs": [],
   "source": []
  },
  {
   "cell_type": "code",
   "execution_count": 42,
   "metadata": {
    "pycharm": {
     "name": "#%%\n"
    }
   },
   "outputs": [
    {
     "data": {
      "text/plain": "<BarContainer object of 2 artists>"
     },
     "execution_count": 42,
     "metadata": {},
     "output_type": "execute_result"
    },
    {
     "data": {
      "text/plain": "<Figure size 432x288 with 1 Axes>",
      "image/png": "[encoded data removed]"
     },
     "metadata": {
      "needs_background": "light"
     },
     "output_type": "display_data"
    }
   ],
   "source": [
    "names = ['GloVe', \"w2v\"]\n",
    "values = [accuracy, accuracy2]\n",
    "\n",
    "plt.bar(names, values)\n",
    "\n",
    "\n"
   ]
  },
  {
   "cell_type": "code",
   "execution_count": 43,
   "metadata": {
    "pycharm": {
     "name": "#%% mb\n"
    }
   },
   "outputs": [],
   "source": [
    "# With restaurant data"
   ]
  },
  {
   "cell_type": "code",
   "execution_count": 43,
   "metadata": {
    "pycharm": {
     "name": "#%%\n"
    }
   },
   "outputs": [],
   "source": []
  }
 ],
 "metadata": {
  "kernelspec": {
   "display_name": "Python 3",
   "language": "python",
   "name": "python3"
  },
  "language_info": {
   "codemirror_mode": {
    "name": "ipython",
    "version": 3
   },
   "file_extension": ".py",
   "mimetype": "text/x-python",
   "name": "python",
   "nbconvert_exporter": "python",
   "pygments_lexer": "ipython3",
   "version": "3.8.5"
  }
 },
 "nbformat": 4,
 "nbformat_minor": 1
}